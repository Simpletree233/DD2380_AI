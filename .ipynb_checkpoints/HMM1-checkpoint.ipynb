{
 "cells": [
  {
   "cell_type": "markdown",
   "metadata": {},
   "source": [
    "## define a function that returns P"
   ]
  },
  {
   "cell_type": "code",
   "execution_count": 1,
   "metadata": {},
   "outputs": [],
   "source": [
    "def calculate_emission_probability(A, B, pi, O):\n",
    "    \n",
    "    # Initialize the alpha probabilities with the initial state probability distribution\n",
    "    # O is the emission sequence\n",
    "    \n",
    "    # TODO : initialize alpha\n",
    "    alpha = pi\n",
    "\n",
    "    # Loop over the emission sequence\n",
    "    for t in range(1, len(O)):\n",
    "        # Calculate the probability of observing the emission at time t\n",
    "        alpha[t] = 0\n",
    "        for i in range(len(A)):\n",
    "            for j in range(len(B[0])):\n",
    "                alpha[t] += alpha[t-1][i] * A[i][j] * B[j][O[t]]\n",
    "\n",
    "    # The final emission probability is the sum of the probabilities at the final time step\n",
    "    P = 0\n",
    "    for i in range(len(alpha[-1])):\n",
    "        P += alpha[-1][i]\n",
    "    \n",
    "    return P"
   ]
  },
  {
   "cell_type": "markdown",
   "metadata": {},
   "source": [
    "## Convert file to HMM model params"
   ]
  },
  {
   "cell_type": "code",
   "execution_count": 5,
   "metadata": {},
   "outputs": [],
   "source": [
    "# Open the file in read-only mode\n",
    "with open('hmm2_01.in', 'r') as input_file:\n",
    "    # Read the first line of the file, which contains the transition matrix\n",
    "    line = input_file.readline().strip()\n",
    "    # Split the line into a list of elements\n",
    "    elements = line.split()\n",
    "\n",
    "    # Extract the dimensions of the transition matrix from the first two elements of the list\n",
    "    transition_rows = int(elements[0])\n",
    "    transition_cols = int(elements[1])\n",
    "\n",
    "    # Create a transition matrix with the specified dimensions\n",
    "    transition_matrix = [[0 for _ in range(transition_cols)] for _ in range(transition_rows)]\n",
    "\n",
    "    # Extract the elements of the transition matrix from the remaining elements of the list\n",
    "    for i in range(transition_rows):\n",
    "        for j in range(transition_cols):\n",
    "            transition_matrix[i][j] = float(elements[2 + i * transition_cols + j])\n",
    "\n",
    "    # Read the second line of the file, which contains the emission matrix\n",
    "    line = input_file.readline().strip()\n",
    "    # Split the line into a list of elements\n",
    "    elements = line.split()\n",
    "\n",
    "    # Extract the dimensions of the emission matrix from the first two elements of the list\n",
    "    emission_rows = int(elements[0])\n",
    "    emission_cols = int(elements[1])\n",
    "\n",
    "    # Create an emission matrix with the specified dimensions\n",
    "    emission_matrix = [[0 for _ in range(emission_cols)] for _ in range(emission_rows)]\n",
    "\n",
    "    # Extract the elements of the emission matrix from the remaining elements of the list\n",
    "    for i in range(emission_rows):\n",
    "        for j in range(emission_cols):\n",
    "            emission_matrix[i][j] = float(elements[2 + i * emission_cols + j])\n",
    "\n",
    "    # Read the third line of the file, which contains the initial state probability distribution\n",
    "    line = input_file.readline().strip()\n",
    "    # Split the line into a list of elements\n",
    "    elements = line.split()\n",
    "\n",
    "    # Extract the dimensions of the initial state probability distribution matrix from the first two elements of the list\n",
    "    initial_rows = int(elements[0])\n",
    "    initial_cols = int(elements[1])\n",
    "\n",
    "    # Create an initial state probability distribution matrix with the specified dimensions\n",
    "    initial_matrix = [[0 for _ in range(initial_cols)] for _ in range(initial_rows)]\n",
    "    # Extract the elements of the initial state probability distribution matrix from the remaining elements of the list\n",
    "    for i in range(initial_rows):\n",
    "        for j in range(initial_cols):\n",
    "            initial_matrix[i][j] = float(elements[2 + i * initial_cols + j])\n",
    "\n",
    "    "
   ]
  },
  {
   "cell_type": "code",
   "execution_count": 6,
   "metadata": {},
   "outputs": [],
   "source": [
    "A = transition_matrix\n",
    "B = emission_matrix\n",
    "pi = initial_matrix"
   ]
  },
  {
   "cell_type": "code",
   "execution_count": 9,
   "metadata": {},
   "outputs": [
    {
     "data": {
      "text/plain": [
       "[[1.0, 0.0, 0.0, 0.0]]"
      ]
     },
     "execution_count": 9,
     "metadata": {},
     "output_type": "execute_result"
    }
   ],
   "source": [
    "pi"
   ]
  },
  {
   "cell_type": "code",
   "execution_count": null,
   "metadata": {},
   "outputs": [],
   "source": []
  },
  {
   "cell_type": "code",
   "execution_count": null,
   "metadata": {},
   "outputs": [],
   "source": []
  },
  {
   "cell_type": "code",
   "execution_count": 4,
   "metadata": {},
   "outputs": [
    {
     "ename": "SyntaxError",
     "evalue": "'continue' not properly in loop (<ipython-input-4-c4a767bfe604>, line 9)",
     "output_type": "error",
     "traceback": [
      "\u001b[1;36m  File \u001b[1;32m\"<ipython-input-4-c4a767bfe604>\"\u001b[1;36m, line \u001b[1;32m9\u001b[0m\n\u001b[1;33m    continue\u001b[0m\n\u001b[1;37m    ^\u001b[0m\n\u001b[1;31mSyntaxError\u001b[0m\u001b[1;31m:\u001b[0m 'continue' not properly in loop\n"
     ]
    }
   ],
   "source": [
    "with open(\"hmm2_01.in\") as f:\n",
    "    # Read dimensions of transition matrix\n",
    "    # Read dimensions of emission matrix\n",
    "    line = f.readline().strip()\n",
    "    if line:\n",
    "        n, m, *_ = map(float, line.split())\n",
    "    else:\n",
    "        # Skip the rest of the code in this iteration and go to the next iteration\n",
    "        continue\n",
    "    # Continue with the rest of the code here\n",
    "\n",
    "        \n",
    "    # Convert dimensions to integers\n",
    "    n = int(n)\n",
    "    m = int(m)\n",
    "    # Read transition matrix\n",
    "    A = []\n",
    "    for _ in range(n):\n",
    "        A.append(list(map(float, f.readline().strip().split())))\n",
    "\n",
    "    # Read dimensions of emission matrix\n",
    "    n, m, *_ = map(float, f.readline().strip().split())\n",
    "    # Convert dimensions to integers\n",
    "    n = int(n)\n",
    "    m = int(m)\n",
    "    # Read emission matrix\n",
    "    B = []\n",
    "    for _ in range(n):\n",
    "        B.append(list(map(float, f.readline().strip().split())))\n",
    "\n",
    "    # Read initial state probability distribution\n",
    "    pi = [list(map(float, f.readline().strip().split()))]\n",
    "\n",
    "    # Read number of emissions and emission sequence\n",
    "    T = int(f.readline().strip())\n",
    "    X = list(map(int, f.readline().strip().split()))\n",
    "\n",
    "    \n",
    "# Calculate and print the emission probability\n",
    "P = calculate_emission_probability(A, B, pi, X)\n",
    "print(P)"
   ]
  },
  {
   "cell_type": "code",
   "execution_count": null,
   "metadata": {},
   "outputs": [],
   "source": []
  }
 ],
 "metadata": {
  "kernelspec": {
   "display_name": "Python 3",
   "language": "python",
   "name": "python3"
  },
  "language_info": {
   "codemirror_mode": {
    "name": "ipython",
    "version": 3
   },
   "file_extension": ".py",
   "mimetype": "text/x-python",
   "name": "python",
   "nbconvert_exporter": "python",
   "pygments_lexer": "ipython3",
   "version": "3.8.5"
  }
 },
 "nbformat": 4,
 "nbformat_minor": 5
}
