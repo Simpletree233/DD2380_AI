{
 "cells": [
  {
   "cell_type": "code",
   "execution_count": 3,
   "id": "668f5d4a",
   "metadata": {},
   "outputs": [
    {
     "ename": "ValueError",
     "evalue": "Invalid input file",
     "output_type": "error",
     "traceback": [
      "\u001b[1;31m---------------------------------------------------------------------------\u001b[0m",
      "\u001b[1;31mValueError\u001b[0m                                Traceback (most recent call last)",
      "Cell \u001b[1;32mIn [3], line 20\u001b[0m\n\u001b[0;32m     18\u001b[0m \u001b[38;5;66;03m# Verify that the number of elements is equal to the number of columns\u001b[39;00m\n\u001b[0;32m     19\u001b[0m \u001b[38;5;28;01mif\u001b[39;00m \u001b[38;5;28mlen\u001b[39m(elements) \u001b[38;5;241m!=\u001b[39m transition_cols:\n\u001b[1;32m---> 20\u001b[0m     \u001b[38;5;28;01mraise\u001b[39;00m \u001b[38;5;167;01mValueError\u001b[39;00m(\u001b[38;5;124m'\u001b[39m\u001b[38;5;124mInvalid input file\u001b[39m\u001b[38;5;124m'\u001b[39m)\n\u001b[0;32m     21\u001b[0m \u001b[38;5;66;03m# Store the elements in the transition matrix\u001b[39;00m\n\u001b[0;32m     22\u001b[0m \u001b[38;5;28;01mfor\u001b[39;00m j \u001b[38;5;129;01min\u001b[39;00m \u001b[38;5;28mrange\u001b[39m(transition_cols):\n",
      "\u001b[1;31mValueError\u001b[0m: Invalid input file"
     ]
    }
   ],
   "source": [
    "# Open the file in read-only mode\n",
    "with open('hmm2_01.in', 'r') as input_file:\n",
    "    # Read the first line of the file, which contains the transition matrix\n",
    "    line = input_file.readline().strip()\n",
    "    # Split the line into a list of elements\n",
    "    elements = line.split()\n",
    "\n",
    "    # Extract the dimensions of the transition matrix from the first two elements of the list\n",
    "    transition_rows = int(elements[0])\n",
    "    transition_cols = int(elements[1])\n",
    "\n",
    "    # Create a transition matrix with the specified dimensions\n",
    "    transition_matrix = [[0 for _ in range(transition_cols)] for _ in range(transition_rows)]\n",
    "\n",
    "    # Extract the elements of the transition matrix from the remaining elements of the list\n",
    "    for i in range(transition_rows):\n",
    "        for j in range(transition_cols):\n",
    "            transition_matrix[i][j] = float(elements[2 + i * transition_cols + j])\n",
    "\n",
    "    # Read the second line of the file, which contains the emission matrix\n",
    "    line = input_file.readline().strip()\n",
    "    # Split the line into a list of elements\n",
    "    elements = line.split()\n",
    "\n",
    "    # Extract the dimensions of the emission matrix from the first two elements of the list\n",
    "    emission_rows = int(elements[0])\n",
    "    emission_cols = int(elements[1])\n",
    "\n",
    "    # Create an emission matrix with the specified dimensions\n",
    "    emission_matrix = [[0 for _ in range(emission_cols)] for _ in range(emission_rows)]\n",
    "\n",
    "    # Extract the elements of the emission matrix from the remaining elements of the list\n",
    "    for i in range(emission_rows):\n",
    "        for j in range(emission_cols):\n",
    "            emission_matrix[i][j] = float(elements[2 + i * emission_cols + j])\n",
    "\n",
    "    # Read the third line of the file, which contains the initial state probability distribution\n",
    "    line = input_file.readline().strip()\n",
    "    # Split the line into a list of elements\n",
    "    elements = line.split()\n",
    "\n",
    "    # Extract the dimensions of the initial state probability distribution matrix from the first two elements of the list\n",
    "    initial_rows = int(elements[0])\n",
    "    initial_cols = int(elements[1])\n",
    "\n",
    "    # Create an initial state probability distribution matrix with the specified dimensions\n",
    "    initial_matrix = [[0 for _ in range(initial_cols)] for _ in range(initial_rows)]\n",
    "    # Extract the elements of the initial state probability distribution matrix from the remaining elements of the list\n",
    "    for i in range(initial_rows):\n",
    "        for j in range(initial_cols):\n",
    "            initial_matrix[i][j] = float(elements[2 + i * initial_cols + j])\n",
    "\n",
    "    "
   ]
  },
  {
   "cell_type": "code",
   "execution_count": null,
   "id": "331b502e",
   "metadata": {},
   "outputs": [],
   "source": [
    "# The given matrices\n",
    "# transition_matrix = [[0.2, 0.5, 0.3, 0.0], [0.1, 0.4, 0.4, 0.1], [0.2, 0.0, 0.4, 0.4], [0.3, 0.0, 0.5, 0.2]]\n",
    "# emission_matrix = [[1.0, 0.0, 0.0], [0.0, 1.0, 0.0], [0.0, 0.0, 1.0], [0.2, 0.6, 0.2]]\n",
    "# initial_state_probability = [[0.0, 0.0, 0.0, 1.0]]\n",
    "\n",
    "# Multiply the initial state probability by the transition matrix\n",
    "# to get the probability distribution after the next transition\n",
    "next_state_probability = [    [        sum(initial_state_probability[0][j] * transition_matrix[j][i]\n",
    "            for j in range(len(initial_state_probability[0])))\n",
    "        for i in range(len(transition_matrix[0]))\n",
    "    ]\n",
    "]\n",
    "\n",
    "# Multiply the result by the emission matrix to get the emission\n",
    "# probability distribution after the next transition\n",
    "emission_probability = [    [        sum(next_state_probability[0][j] * emission_matrix[j][i]\n",
    "            for j in range(len(next_state_probability[0])))\n",
    "        for i in range(len(emission_matrix[0]))\n",
    "    ]\n",
    "]\n",
    "\n",
    "# Print the result in the required matrix format\n",
    "print(\"%d %d\" % (len(emission_probability), len(emission_probability[0])))\n",
    "print(\" \".join(\" \".join(str(x) for x in row) for row in emission_probability))"
   ]
  },
  {
   "cell_type": "code",
   "execution_count": null,
   "id": "fed3ebdf",
   "metadata": {},
   "outputs": [],
   "source": []
  },
  {
   "cell_type": "code",
   "execution_count": null,
   "id": "cdbe04bb",
   "metadata": {},
   "outputs": [],
   "source": []
  },
  {
   "cell_type": "code",
   "execution_count": null,
   "id": "3d318c05",
   "metadata": {},
   "outputs": [],
   "source": []
  },
  {
   "cell_type": "code",
   "execution_count": null,
   "id": "edbd3e6d",
   "metadata": {},
   "outputs": [],
   "source": []
  }
 ],
 "metadata": {
  "kernelspec": {
   "display_name": "Python 3 (ipykernel)",
   "language": "python",
   "name": "python3"
  },
  "language_info": {
   "codemirror_mode": {
    "name": "ipython",
    "version": 3
   },
   "file_extension": ".py",
   "mimetype": "text/x-python",
   "name": "python",
   "nbconvert_exporter": "python",
   "pygments_lexer": "ipython3",
   "version": "3.9.12"
  }
 },
 "nbformat": 4,
 "nbformat_minor": 5
}
