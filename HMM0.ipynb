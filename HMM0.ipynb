{
 "cells": [
  {
   "cell_type": "markdown",
   "metadata": {},
   "source": [
    "## Create set of parameters from description file"
   ]
  },
  {
   "cell_type": "code",
   "execution_count": 1,
   "metadata": {},
   "outputs": [],
   "source": [
    "# Open the file in read-only mode\n",
    "with open('hmm2_00.in', 'r') as input_file:\n",
    "    # Read the first line of the file, which contains the transition matrix\n",
    "    line = input_file.readline().strip()\n",
    "    # Split the line into a list of elements\n",
    "    elements = line.split()\n",
    "\n",
    "    # Extract the dimensions of the transition matrix from the first two elements of the list\n",
    "    transition_rows = int(elements[0])\n",
    "    transition_cols = int(elements[1])\n",
    "\n",
    "    # Create a transition matrix with the specified dimensions\n",
    "    transition_matrix = [[0 for _ in range(transition_cols)] for _ in range(transition_rows)]\n",
    "\n",
    "    # Extract the elements of the transition matrix from the remaining elements of the list\n",
    "    for i in range(transition_rows):\n",
    "        for j in range(transition_cols):\n",
    "            transition_matrix[i][j] = float(elements[2 + i * transition_cols + j])\n",
    "\n",
    "    # Read the second line of the file, which contains the emission matrix\n",
    "    line = input_file.readline().strip()\n",
    "    # Split the line into a list of elements\n",
    "    elements = line.split()\n",
    "\n",
    "    # Extract the dimensions of the emission matrix from the first two elements of the list\n",
    "    emission_rows = int(elements[0])\n",
    "    emission_cols = int(elements[1])\n",
    "\n",
    "    # Create an emission matrix with the specified dimensions\n",
    "    emission_matrix = [[0 for _ in range(emission_cols)] for _ in range(emission_rows)]\n",
    "\n",
    "    # Extract the elements of the emission matrix from the remaining elements of the list\n",
    "    for i in range(emission_rows):\n",
    "        for j in range(emission_cols):\n",
    "            emission_matrix[i][j] = float(elements[2 + i * emission_cols + j])\n",
    "\n",
    "    # Read the third line of the file, which contains the initial state probability distribution\n",
    "    line = input_file.readline().strip()\n",
    "    # Split the line into a list of elements\n",
    "    elements = line.split()\n",
    "\n",
    "    # Extract the dimensions of the initial state probability distribution matrix from the first two elements of the list\n",
    "    initial_rows = int(elements[0])\n",
    "    initial_cols = int(elements[1])\n",
    "\n",
    "    # Create an initial state probability distribution matrix with the specified dimensions\n",
    "    initial_matrix = [[0 for _ in range(initial_cols)] for _ in range(initial_rows)]\n",
    "    # Extract the elements of the initial state probability distribution matrix from the remaining elements of the list\n",
    "    for i in range(initial_rows):\n",
    "        for j in range(initial_cols):\n",
    "            initial_matrix[i][j] = float(elements[2 + i * initial_cols + j])\n",
    "\n",
    "    "
   ]
  },
  {
   "cell_type": "markdown",
   "metadata": {},
   "source": [
    "## See params "
   ]
  },
  {
   "cell_type": "code",
   "execution_count": 7,
   "metadata": {},
   "outputs": [
    {
     "data": {
      "text/plain": [
       "[[0.2, 0.5, 0.3, 0.0],\n",
       " [0.1, 0.4, 0.4, 0.1],\n",
       " [0.2, 0.0, 0.4, 0.4],\n",
       " [0.2, 0.3, 0.0, 0.5]]"
      ]
     },
     "execution_count": 7,
     "metadata": {},
     "output_type": "execute_result"
    }
   ],
   "source": [
    "transition_matrix"
   ]
  },
  {
   "cell_type": "code",
   "execution_count": 14,
   "metadata": {},
   "outputs": [
    {
     "data": {
      "text/plain": [
       "[[1.0, 0.0, 0.0], [0.0, 1.0, 0.0], [0.0, 0.0, 1.0], [0.2, 0.6, 0.2]]"
      ]
     },
     "execution_count": 14,
     "metadata": {},
     "output_type": "execute_result"
    }
   ],
   "source": [
    "emission_matrix"
   ]
  },
  {
   "cell_type": "code",
   "execution_count": 15,
   "metadata": {},
   "outputs": [
    {
     "data": {
      "text/plain": [
       "[[0.0, 0.0, 0.0, 1.0]]"
      ]
     },
     "execution_count": 15,
     "metadata": {},
     "output_type": "execute_result"
    }
   ],
   "source": [
    "initial_matrix"
   ]
  },
  {
   "cell_type": "markdown",
   "metadata": {},
   "source": [
    "## get distribution"
   ]
  },
  {
   "cell_type": "code",
   "execution_count": 13,
   "metadata": {},
   "outputs": [
    {
     "name": "stdout",
     "output_type": "stream",
     "text": [
      "1 3 0.3 0.6 0.1\n"
     ]
    }
   ],
   "source": [
    "# The given matrices\n",
    "# transition_matrix = [[0.2, 0.5, 0.3, 0.0], [0.1, 0.4, 0.4, 0.1], [0.2, 0.0, 0.4, 0.4], [0.3, 0.0, 0.5, 0.2]]\n",
    "# emission_matrix = [[1.0, 0.0, 0.0], [0.0, 1.0, 0.0], [0.0, 0.0, 1.0], [0.2, 0.6, 0.2]]\n",
    "# initial_state_probability = [[0.0, 0.0, 0.0, 1.0]]\n",
    "\n",
    "# Multiply the initial state probability by the transition matrix\n",
    "# to get the probability distribution after the next transition\n",
    "next_state_probability = [    [        sum(initial_state_probability[0][j] * transition_matrix[j][i]\n",
    "            for j in range(len(initial_state_probability[0])))\n",
    "        for i in range(len(transition_matrix[0]))\n",
    "    ]\n",
    "]\n",
    "\n",
    "# Multiply the result by the emission matrix to get the emission\n",
    "# probability distribution after the next transition\n",
    "emission_probability = [    [        sum(next_state_probability[0][j] * emission_matrix[j][i]\n",
    "            for j in range(len(next_state_probability[0])))\n",
    "        for i in range(len(emission_matrix[0]))\n",
    "    ]\n",
    "]\n",
    "\n",
    "# Print the result in the required matrix format\n",
    "# print(\"%d %d\" % (len(emission_probability), len(emission_probability[0])))\n",
    "# print(\" \".join(\" \".join(str(x) for x in row) for row in emission_probability))\n",
    "# Print the dimensions of the emission_probability matrix\n",
    "# print(\"%d %d\" % (len(emission_probability), len(emission_probability[0])))\n",
    "\n",
    "# Format the elements of the matrix to display only one decimal place\n",
    "formatted_emission_probability = [['{:.1f}'.format(x) for x in row] for row in emission_probability]\n",
    "\n",
    "# Concatenate the elements of the formatted matrix into a single string, separated by spaces\n",
    "emission_probability_str = \" \".join(\" \".join(str(x) for x in row) for row in formatted_emission_probability)\n",
    "\n",
    "# Concatenate the dimensions of the matrix and its elements into a single string, separated by spaces\n",
    "output_str = str(len(emission_probability)) + \" \" + str(len(emission_probability[0])) + \" \" + emission_probability_str\n",
    "print(output_str)"
   ]
  },
  {
   "cell_type": "code",
   "execution_count": null,
   "metadata": {},
   "outputs": [],
   "source": []
  },
  {
   "cell_type": "code",
   "execution_count": null,
   "metadata": {},
   "outputs": [],
   "source": []
  },
  {
   "cell_type": "code",
   "execution_count": null,
   "metadata": {},
   "outputs": [],
   "source": []
  },
  {
   "cell_type": "code",
   "execution_count": null,
   "metadata": {},
   "outputs": [],
   "source": []
  }
 ],
 "metadata": {
  "kernelspec": {
   "display_name": "Python 3",
   "language": "python",
   "name": "python3"
  },
  "language_info": {
   "codemirror_mode": {
    "name": "ipython",
    "version": 3
   },
   "file_extension": ".py",
   "mimetype": "text/x-python",
   "name": "python",
   "nbconvert_exporter": "python",
   "pygments_lexer": "ipython3",
   "version": "3.8.5"
  }
 },
 "nbformat": 4,
 "nbformat_minor": 5
}
