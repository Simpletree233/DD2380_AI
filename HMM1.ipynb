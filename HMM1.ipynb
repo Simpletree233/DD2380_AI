{
 "cells": [
  {
   "cell_type": "code",
   "execution_count": 1,
   "id": "49b5bcf2",
   "metadata": {},
   "outputs": [],
   "source": [
    "def calculate_emission_probability(A, B, pi, X):\n",
    "    # Initialize the alpha probabilities with the initial state probability distribution\n",
    "    alpha = pi\n",
    "\n",
    "    # Loop over the emission sequence\n",
    "    for t in range(1, len(X)):\n",
    "        # Calculate the probability of observing the emission at time t\n",
    "        alpha[t] = 0\n",
    "        for i in range(len(A)):\n",
    "            for j in range(len(B[0])):\n",
    "                alpha[t] += alpha[t-1][i] * A[i][j] * B[j][X[t]]\n",
    "\n",
    "    # The final probability is the sum of the probabilities at the final time step\n",
    "    P = 0\n",
    "    for i in range(len(alpha[-1])):\n",
    "        P += alpha[-1][i]\n",
    "    \n",
    "    return P"
   ]
  },
  {
   "cell_type": "code",
   "execution_count": 7,
   "id": "6f5315a4",
   "metadata": {},
   "outputs": [
    {
     "ename": "SyntaxError",
     "evalue": "'continue' not properly in loop (791538697.py, line 9)",
     "output_type": "error",
     "traceback": [
      "\u001b[1;36m  Cell \u001b[1;32mIn [7], line 9\u001b[1;36m\u001b[0m\n\u001b[1;33m    continue\u001b[0m\n\u001b[1;37m    ^\u001b[0m\n\u001b[1;31mSyntaxError\u001b[0m\u001b[1;31m:\u001b[0m 'continue' not properly in loop\n"
     ]
    }
   ],
   "source": [
    "with open(\"hmm2_01.in\") as f:\n",
    "    # Read dimensions of transition matrix\n",
    "    # Read dimensions of emission matrix\n",
    "    line = f.readline().strip()\n",
    "    if line:\n",
    "        n, m, *_ = map(float, line.split())\n",
    "    else:\n",
    "        # Skip the rest of the code in this iteration and go to the next iteration\n",
    "        continue\n",
    "    # Continue with the rest of the code here\n",
    "\n",
    "        \n",
    "    # Convert dimensions to integers\n",
    "    n = int(n)\n",
    "    m = int(m)\n",
    "    # Read transition matrix\n",
    "    A = []\n",
    "    for _ in range(n):\n",
    "        A.append(list(map(float, f.readline().strip().split())))\n",
    "\n",
    "    # Read dimensions of emission matrix\n",
    "    n, m, *_ = map(float, f.readline().strip().split())\n",
    "    # Convert dimensions to integers\n",
    "    n = int(n)\n",
    "    m = int(m)\n",
    "    # Read emission matrix\n",
    "    B = []\n",
    "    for _ in range(n):\n",
    "        B.append(list(map(float, f.readline().strip().split())))\n",
    "\n",
    "    # Read initial state probability distribution\n",
    "    pi = [list(map(float, f.readline().strip().split()))]\n",
    "\n",
    "    # Read number of emissions and emission sequence\n",
    "    T = int(f.readline().strip())\n",
    "    X = list(map(int, f.readline().strip().split()))\n",
    "\n",
    "# Calculate and print the emission probability\n",
    "P = calculate_emission_probability(A, B, pi, X)\n",
    "print(P)"
   ]
  },
  {
   "cell_type": "code",
   "execution_count": null,
   "id": "311633d6",
   "metadata": {},
   "outputs": [],
   "source": []
  }
 ],
 "metadata": {
  "kernelspec": {
   "display_name": "Python 3 (ipykernel)",
   "language": "python",
   "name": "python3"
  },
  "language_info": {
   "codemirror_mode": {
    "name": "ipython",
    "version": 3
   },
   "file_extension": ".py",
   "mimetype": "text/x-python",
   "name": "python",
   "nbconvert_exporter": "python",
   "pygments_lexer": "ipython3",
   "version": "3.9.12"
  }
 },
 "nbformat": 4,
 "nbformat_minor": 5
}
